{
 "cells": [
  {
   "cell_type": "code",
   "execution_count": null,
   "metadata": {},
   "outputs": [],
   "source": [
    "from tweepy import OAuthHandler\n",
    "from tweepy import Stream\n",
    "from tweepy.streaming import StreamListener\n",
    "import time\n",
    "%matplotlib inline"
   ]
  },
  {
   "cell_type": "code",
   "execution_count": null,
   "metadata": {},
   "outputs": [],
   "source": [
    "# setup security \n",
    "access_token = '1006599768104144896-08Q8MuqehWAXLYxH4qfQPd3ihda2WW'\n",
    "access_token_secret = 'hZGfKdUzY1t2jUrA5t2egNhoKTPCz457orKvFVVDD117G'\n",
    "consumer_key = 'mVDo4ha0iWDHYXdalHH6g8tx7'\n",
    "consumer_secret = 'A6vRmL8VmLwpncQD2at0PHkzBswjT7m70BWmpv0rMkxBbvIoan'\n",
    "\n",
    "# setup file store\n",
    "file = 'C:/Users/aluno/Documents/Python Scripts.json'"
   ]
  },
  {
   "cell_type": "code",
   "execution_count": null,
   "metadata": {},
   "outputs": [],
   "source": [
    "class MyListener(StreamListener):\n",
    "        \n",
    "    \n",
    "    def __init__(self, file):\n",
    "        global the_file\n",
    "        self.the_file = open(file, 'w')\n",
    "        \n",
    "    def on_data(self, data):\n",
    "        self.the_file.write(data)\n",
    "        return True\n",
    "    \n",
    "    def on_error(self, status):\n",
    "        print(status)\n",
    "        \n",
    "    def file_close(self):\n",
    "        self.the_file.close()        "
   ]
  },
  {
   "cell_type": "code",
   "execution_count": null,
   "metadata": {},
   "outputs": [],
   "source": [
    "listener = MyListener(file)\n",
    "oauth = OAuthHandler(consumer_key, consumer_secret)\n",
    "oauth.set_access_token(access_token, access_token_secret)\n",
    "\n",
    "max_time = 30 # in seconds\n",
    "start_time = time.time() \n",
    "\n",
    "## collecting...\n",
    "stream = Stream(oauth, listener)\n",
    "#stream.filter(track=['copa', 'neymar', 'messi'],async=True,languages=['pt'])\n",
    "stream.filter(track=['neymar', 'ronaldo', 'messi', 'sallah', 'hazard'],async=True)\n",
    "\n",
    "elapsed_time = (time.time() - start_time)\n",
    "while  elapsed_time < max_time:\n",
    "    elapsed_time = (time.time() - start_time)\n",
    "\n",
    "    \n",
    "print('**Finish**')\n",
    "stream.disconnect()\n",
    "listener.file_close()"
   ]
  },
  {
   "cell_type": "code",
   "execution_count": 75,
   "metadata": {},
   "outputs": [],
   "source": [
    "import json\n",
    "import pandas as pd\n",
    "import matplotlib.pyplot as plt"
   ]
  },
  {
   "cell_type": "code",
   "execution_count": 76,
   "metadata": {},
   "outputs": [],
   "source": [
    "tweets_data = []\n",
    "tweets_file = open(file, \"r\")\n",
    "for line in tweets_file:\n",
    "    try:\n",
    "        tweet = json.loads(line)\n",
    "        tweets_data.append(tweet)\n",
    "    except:\n",
    "        continue"
   ]
  },
  {
   "cell_type": "code",
   "execution_count": 68,
   "metadata": {},
   "outputs": [
    {
     "name": "stdout",
     "output_type": "stream",
     "text": [
      "  lang                                               text country\n",
      "0   en  RT @Chris726: Wow. Messi truly hates the kids ...    None\n",
      "1   en  RT @espn: LeBron James. Cristiano Ronaldo. \\n\\...    None\n",
      "2   pt  RT @Oledobrasil: E o pessoal sempre pergunta c...    None\n",
      "3   en  RT @OlaTheOG: So you’re telling me Messi can c...    None\n",
      "4   es  RT @toneatti0203: Vos Sos El Q No Sabe Nada Bo...    None\n",
      "5   es  RT @turcocarp: Quiero que Messi gane el Mundia...    None\n",
      "6   en  RT @twittatimes: Dont miss ur lip https://t.co...    None\n",
      "7   en  RT @sharpdiv1: Messi is just a shite Barrie Mckay    None\n",
      "8   es  RT @lauratapiasr: Juega en la primera división...    None\n",
      "9   fr  Messi comparé par CR7 et par Maradona avec une...    None\n"
     ]
    }
   ],
   "source": [
    "tweets = pd.DataFrame()\n",
    "\n",
    "tweets['lang'] = ''\n",
    "tweets['text'] = ''\n",
    "tweets['country'] = ''\n",
    "for tweet in tweets_data:\n",
    "    if 'lang' in tweet:\n",
    "        tweets.loc[len(tweets)] = [tweet['lang'],\n",
    "                               tweet['text'],\n",
    "                               tweet['place']['country'] if tweet['place'] != None else None]\n",
    "    \n",
    "print(tweets.head(10))"
   ]
  },
  {
   "cell_type": "code",
   "execution_count": 69,
   "metadata": {},
   "outputs": [
    {
     "data": {
      "text/plain": [
       "<matplotlib.axes._subplots.AxesSubplot at 0x3f966fa9b0>"
      ]
     },
     "execution_count": 69,
     "metadata": {},
     "output_type": "execute_result"
    },
    {
     "data": {
      "image/png": "[encoded data removed]",
      "text/plain": [
       "<Figure size 432x288 with 1 Axes>"
      ]
     },
     "metadata": {},
     "output_type": "display_data"
    }
   ],
   "source": [
    "tweets_by_lang = tweets['lang'].value_counts()\n",
    "\n",
    "fig, ax = plt.subplots()\n",
    "ax.tick_params(axis='x', labelsize=15)\n",
    "ax.tick_params(axis='y', labelsize=10)\n",
    "ax.set_xlabel('Languages', fontsize=15)\n",
    "ax.set_ylabel('Number of tweets' , fontsize=15)\n",
    "ax.set_title('Top 5 languages', fontsize=15, fontweight='bold')\n",
    "tweets_by_lang[:5].plot(ax=ax, kind='bar', color='red')"
   ]
  },
  {
   "cell_type": "code",
   "execution_count": 60,
   "metadata": {},
   "outputs": [
    {
     "data": {
      "text/plain": [
       "<matplotlib.axes._subplots.AxesSubplot at 0x3f9c7274a8>"
      ]
     },
     "execution_count": 60,
     "metadata": {},
     "output_type": "execute_result"
    },
    {
     "data": {
      "image/png": "[encoded data removed]",
      "text/plain": [
       "<Figure size 432x288 with 1 Axes>"
      ]
     },
     "metadata": {},
     "output_type": "display_data"
    }
   ],
   "source": [
    "tweets_by_country = tweets['country'].value_counts()\n",
    "\n",
    "fig, ax = plt.subplots()\n",
    "ax.tick_params(axis='x', labelsize=15)\n",
    "ax.tick_params(axis='y', labelsize=10)\n",
    "ax.set_xlabel('Countries', fontsize=15)\n",
    "ax.set_ylabel('Number of tweets' , fontsize=15)\n",
    "ax.set_title('Top 5 countries', fontsize=15, fontweight='bold')\n",
    "tweets_by_country[:5].plot(ax=ax, kind='bar', color='blue')"
   ]
  },
  {
   "cell_type": "code",
   "execution_count": 70,
   "metadata": {},
   "outputs": [],
   "source": [
    "import re\n",
    "def word_in_text(word, text):\n",
    "    word = word.lower()\n",
    "    text = text.lower()\n",
    "    match = re.search(word, text)\n",
    "    if match:\n",
    "        return True\n",
    "    return False"
   ]
  },
  {
   "cell_type": "code",
   "execution_count": 49,
   "metadata": {},
   "outputs": [
    {
     "data": {
      "text/html": [
       "<div>\n",
       "<style scoped>\n",
       "    .dataframe tbody tr th:only-of-type {\n",
       "        vertical-align: middle;\n",
       "    }\n",
       "\n",
       "    .dataframe tbody tr th {\n",
       "        vertical-align: top;\n",
       "    }\n",
       "\n",
       "    .dataframe thead th {\n",
       "        text-align: right;\n",
       "    }\n",
       "</style>\n",
       "<table border=\"1\" class=\"dataframe\">\n",
       "  <thead>\n",
       "    <tr style=\"text-align: right;\">\n",
       "      <th></th>\n",
       "      <th>lang</th>\n",
       "      <th>text</th>\n",
       "      <th>country</th>\n",
       "      <th>player</th>\n",
       "    </tr>\n",
       "  </thead>\n",
       "  <tbody>\n",
       "    <tr>\n",
       "      <th>0</th>\n",
       "      <td>en</td>\n",
       "      <td>RT @SiavoushF: Mexican fans: Messi.. Messi..\\n...</td>\n",
       "      <td>None</td>\n",
       "      <td>messi</td>\n",
       "    </tr>\n",
       "    <tr>\n",
       "      <th>1</th>\n",
       "      <td>en</td>\n",
       "      <td>Such a messi job !! https://t.co/Aoy4owle56</td>\n",
       "      <td>None</td>\n",
       "      <td>messi</td>\n",
       "    </tr>\n",
       "    <tr>\n",
       "      <th>2</th>\n",
       "      <td>es</td>\n",
       "      <td>RT @champagnepapx1: Muy buena la formación de ...</td>\n",
       "      <td>None</td>\n",
       "      <td>None</td>\n",
       "    </tr>\n",
       "    <tr>\n",
       "      <th>3</th>\n",
       "      <td>en</td>\n",
       "      <td>Don't blame Messi penalty miss for Argentina f...</td>\n",
       "      <td>None</td>\n",
       "      <td>messi</td>\n",
       "    </tr>\n",
       "    <tr>\n",
       "      <th>4</th>\n",
       "      <td>en</td>\n",
       "      <td>RT @De_nas_: Who's your world best? \\nRetweet ...</td>\n",
       "      <td>None</td>\n",
       "      <td>messi</td>\n",
       "    </tr>\n",
       "    <tr>\n",
       "      <th>5</th>\n",
       "      <td>en</td>\n",
       "      <td>RT @MisterseunPR: See what your MCM, Messi cau...</td>\n",
       "      <td>None</td>\n",
       "      <td>messi</td>\n",
       "    </tr>\n",
       "    <tr>\n",
       "      <th>6</th>\n",
       "      <td>es</td>\n",
       "      <td>RT @FantasmadeNimo: ¿Entienen que Icardi no es...</td>\n",
       "      <td>None</td>\n",
       "      <td>messi</td>\n",
       "    </tr>\n",
       "    <tr>\n",
       "      <th>7</th>\n",
       "      <td>es</td>\n",
       "      <td>RT @InvictosSomos: ➔ ¿Acabado? Responde con un...</td>\n",
       "      <td>None</td>\n",
       "      <td>None</td>\n",
       "    </tr>\n",
       "    <tr>\n",
       "      <th>8</th>\n",
       "      <td>pt</td>\n",
       "      <td>RT @transf_min: Isto é Cristiano Ronaldo 🔥 htt...</td>\n",
       "      <td>None</td>\n",
       "      <td>ronaldo</td>\n",
       "    </tr>\n",
       "    <tr>\n",
       "      <th>9</th>\n",
       "      <td>en</td>\n",
       "      <td>RT @rwohan: In 2016, Iceland tied Portugal, 1-...</td>\n",
       "      <td>None</td>\n",
       "      <td>messi</td>\n",
       "    </tr>\n",
       "    <tr>\n",
       "      <th>10</th>\n",
       "      <td>en</td>\n",
       "      <td>RT @AKasingye: If this is motivated by their f...</td>\n",
       "      <td>None</td>\n",
       "      <td>None</td>\n",
       "    </tr>\n",
       "    <tr>\n",
       "      <th>11</th>\n",
       "      <td>es</td>\n",
       "      <td>@DistasioNicolas Sampaoli, si en los Cambios, ...</td>\n",
       "      <td>None</td>\n",
       "      <td>messi</td>\n",
       "    </tr>\n",
       "    <tr>\n",
       "      <th>12</th>\n",
       "      <td>pt</td>\n",
       "      <td>desde que ele nos traga o HEXA eu não to nem a...</td>\n",
       "      <td>None</td>\n",
       "      <td>neymar</td>\n",
       "    </tr>\n",
       "    <tr>\n",
       "      <th>13</th>\n",
       "      <td>fr</td>\n",
       "      <td>RT @god_mafia: @ashutosh83B Messi #AccordingTo...</td>\n",
       "      <td>None</td>\n",
       "      <td>messi</td>\n",
       "    </tr>\n",
       "    <tr>\n",
       "      <th>14</th>\n",
       "      <td>en</td>\n",
       "      <td>Abeg, carry ya support go anoda place https://...</td>\n",
       "      <td>United Kingdom</td>\n",
       "      <td>None</td>\n",
       "    </tr>\n",
       "    <tr>\n",
       "      <th>15</th>\n",
       "      <td>es</td>\n",
       "      <td>RT @manusovichdam: partido difícil , lo banco ...</td>\n",
       "      <td>None</td>\n",
       "      <td>messi</td>\n",
       "    </tr>\n",
       "    <tr>\n",
       "      <th>16</th>\n",
       "      <td>pt</td>\n",
       "      <td>neymar eh o tipico galã feio</td>\n",
       "      <td>None</td>\n",
       "      <td>neymar</td>\n",
       "    </tr>\n",
       "    <tr>\n",
       "      <th>17</th>\n",
       "      <td>es</td>\n",
       "      <td>RT @Giulipalleres20: Me duele que a Messi no l...</td>\n",
       "      <td>None</td>\n",
       "      <td>messi</td>\n",
       "    </tr>\n",
       "    <tr>\n",
       "      <th>18</th>\n",
       "      <td>es</td>\n",
       "      <td>RT @albertherrera94: MESSI ME CAGO EN TU MUELA...</td>\n",
       "      <td>None</td>\n",
       "      <td>messi</td>\n",
       "    </tr>\n",
       "    <tr>\n",
       "      <th>19</th>\n",
       "      <td>pt</td>\n",
       "      <td>RT @FELIPEMILGR4U: ATÉ EM COPA VCS FICAM COM E...</td>\n",
       "      <td>None</td>\n",
       "      <td>messi</td>\n",
       "    </tr>\n",
       "  </tbody>\n",
       "</table>\n",
       "</div>"
      ],
      "text/plain": [
       "   lang                                               text         country  \\\n",
       "0    en  RT @SiavoushF: Mexican fans: Messi.. Messi..\\n...            None   \n",
       "1    en        Such a messi job !! https://t.co/Aoy4owle56            None   \n",
       "2    es  RT @champagnepapx1: Muy buena la formación de ...            None   \n",
       "3    en  Don't blame Messi penalty miss for Argentina f...            None   \n",
       "4    en  RT @De_nas_: Who's your world best? \\nRetweet ...            None   \n",
       "5    en  RT @MisterseunPR: See what your MCM, Messi cau...            None   \n",
       "6    es  RT @FantasmadeNimo: ¿Entienen que Icardi no es...            None   \n",
       "7    es  RT @InvictosSomos: ➔ ¿Acabado? Responde con un...            None   \n",
       "8    pt  RT @transf_min: Isto é Cristiano Ronaldo 🔥 htt...            None   \n",
       "9    en  RT @rwohan: In 2016, Iceland tied Portugal, 1-...            None   \n",
       "10   en  RT @AKasingye: If this is motivated by their f...            None   \n",
       "11   es  @DistasioNicolas Sampaoli, si en los Cambios, ...            None   \n",
       "12   pt  desde que ele nos traga o HEXA eu não to nem a...            None   \n",
       "13   fr  RT @god_mafia: @ashutosh83B Messi #AccordingTo...            None   \n",
       "14   en  Abeg, carry ya support go anoda place https://...  United Kingdom   \n",
       "15   es  RT @manusovichdam: partido difícil , lo banco ...            None   \n",
       "16   pt                       neymar eh o tipico galã feio            None   \n",
       "17   es  RT @Giulipalleres20: Me duele que a Messi no l...            None   \n",
       "18   es  RT @albertherrera94: MESSI ME CAGO EN TU MUELA...            None   \n",
       "19   pt  RT @FELIPEMILGR4U: ATÉ EM COPA VCS FICAM COM E...            None   \n",
       "\n",
       "     player  \n",
       "0     messi  \n",
       "1     messi  \n",
       "2      None  \n",
       "3     messi  \n",
       "4     messi  \n",
       "5     messi  \n",
       "6     messi  \n",
       "7      None  \n",
       "8   ronaldo  \n",
       "9     messi  \n",
       "10     None  \n",
       "11    messi  \n",
       "12   neymar  \n",
       "13    messi  \n",
       "14     None  \n",
       "15    messi  \n",
       "16   neymar  \n",
       "17    messi  \n",
       "18    messi  \n",
       "19    messi  "
      ]
     },
     "execution_count": 49,
     "metadata": {},
     "output_type": "execute_result"
    }
   ],
   "source": [
    "## filtrando aqueles q mais foram falados (termos mais influentes)\n",
    "players = []\n",
    "for tweet in tweets_data:\n",
    "    if 'text' in tweet:\n",
    "        if word_in_text('neymar', tweet['text']):\n",
    "            players.append('neymar')\n",
    "        elif word_in_text('messi', tweet['text']):\n",
    "            players.append('messi')\n",
    "        elif word_in_text('ronaldo', tweet['text']):\n",
    "            players.append('ronaldo')\n",
    "        elif word_in_text('sallah', tweet['text']):\n",
    "            players.append('sallah')\n",
    "        elif word_in_text('hazard', tweet['text']):\n",
    "            players.append('hazard')\n",
    "        else:\n",
    "            players.append('None')\n",
    "tweets['player'] = players\n",
    "tweets.head(20)"
   ]
  },
  {
   "cell_type": "code",
   "execution_count": null,
   "metadata": {},
   "outputs": [],
   "source": [
    "tweets_by_player = tweets['player'].value_counts()\n",
    "\n",
    "fig, ax = plt.subplots()\n",
    "ax.tick_params(axis='x', labelsize=15)\n",
    "ax.tick_params(axis='y', labelsize=10)\n",
    "ax.set_xlabel('Players', fontsize=15)\n",
    "ax.set_ylabel('Number of tweets' , fontsize=15)\n",
    "ax.set_title('Top 5 players', fontsize=15, fontweight='bold')\n",
    "tweets_by_player[:6].plot(ax=ax, kind='bar', color='green')"
   ]
  },
  {
   "cell_type": "code",
   "execution_count": null,
   "metadata": {},
   "outputs": [],
   "source": [
    "## Desafio: filtrando pelas coordenadas geográficas os tweets em português"
   ]
  }
 ],
 "metadata": {
  "kernelspec": {
   "display_name": "Python 3",
   "language": "python",
   "name": "python3"
  },
  "language_info": {
   "codemirror_mode": {
    "name": "ipython",
    "version": 3
   },
   "file_extension": ".py",
   "mimetype": "text/x-python",
   "name": "python",
   "nbconvert_exporter": "python",
   "pygments_lexer": "ipython3",
   "version": "3.6.5"
  }
 },
 "nbformat": 4,
 "nbformat_minor": 2
}
